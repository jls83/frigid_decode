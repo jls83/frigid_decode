{
 "cells": [
  {
   "cell_type": "code",
   "execution_count": 1,
   "id": "aa79c2f6-65ee-4e5e-b0d2-8f14a7e9f922",
   "metadata": {},
   "outputs": [],
   "source": [
    "import math\n",
    "from collections import Counter\n",
    "from functools import reduce\n",
    "from itertools import chain\n",
    "\n",
    "import matplotlib.pyplot as plt"
   ]
  },
  {
   "cell_type": "code",
   "execution_count": 2,
   "id": "dded0a7e-337f-40a5-a3be-279cb19c7085",
   "metadata": {},
   "outputs": [],
   "source": [
    "FRIGID = '/Users/jls83/Downloads/Frigid Test.ir'\n",
    "TERMPS = '/Users/jls83/Downloads/Termps.ir'\n",
    "ALL_SAME = '/Users/jls83/Downloads/AllSame.ir'"
   ]
  },
  {
   "cell_type": "code",
   "execution_count": 15,
   "id": "1fc49623-322d-4004-8755-cd3bac0a05aa",
   "metadata": {},
   "outputs": [],
   "source": [
    "FIRST_BURST = 8963\n",
    "SECOND_BURST = 4511\n",
    "HIGH = 625\n",
    "LOW = 525\n",
    "SPACE = 575\n",
    "WRAPPED_LOW = (SPACE + LOW + SPACE)\n",
    "SHORT_SPLIT = 20010\n",
    "LONG_SPLIT = 40020\n",
    "PREAMBLE = [FIRST_BURST, SECOND_BURST, HIGH, (SPACE + LOW + SPACE)]"
   ]
  },
  {
   "cell_type": "code",
   "execution_count": 4,
   "id": "a30a4347-54d4-4dd4-90a9-ee3b90215640",
   "metadata": {},
   "outputs": [],
   "source": [
    "class IRSpec:\n",
    "    def __init__(self, name, capture_type, frequency, duty_cycle, data):\n",
    "        self.name = name\n",
    "        self.capture_type = capture_type\n",
    "        self.frequency = frequency\n",
    "        self.duty_cycle = duty_cycle\n",
    "        self.data = data\n",
    "\n",
    "        # temp, mode, fan_speed, power = name.split('_')\n",
    "        # self.config = {\n",
    "        #     \"temp\": int(temp),\n",
    "        #     \"mode\": mode,\n",
    "        #     \"fan_speed\": fan_speed,\n",
    "        #     \"power\": power,\n",
    "        # }\n",
    "\n",
    "        self.data_int = [int(n) for n in data.split(' ')]\n",
    "        self.normalized_data = [self.normalize_value(n) for n in self.data_int]\n",
    "        self.chunks = self.get_chunks(self.normalized_data)\n",
    "\n",
    "    @staticmethod\n",
    "    def normalize_value(n):\n",
    "        if n <= 582: return SPACE\n",
    "        elif n <= 656: return HIGH\n",
    "        elif n <= 1683: return (SPACE + LOW + SPACE)\n",
    "        elif n <= 4516: return SECOND_BURST\n",
    "        elif n <= 8994: return FIRST_BURST\n",
    "        elif n <= 20016: return SHORT_SPLIT\n",
    "        else: return LONG_SPLIT\n",
    "\n",
    "    @staticmethod\n",
    "    def get_chunks(ns, boundaries={SHORT_SPLIT, LONG_SPLIT}):\n",
    "        res = [[]]\n",
    "        for n in ns:\n",
    "            if n in boundaries:\n",
    "                res.append([])\n",
    "            else:\n",
    "                res[-1].append(n)\n",
    "\n",
    "        return res\n",
    "\n",
    "    def get_ir_file_def(self, button_name=None):\n",
    "        if button_name is None:\n",
    "            button_name = self.name\n",
    "        data_str = \" \".join(str(n) for n in self.normalized_data)\n",
    "        return f\"name: {button_name}\\ntype: raw\\nfrequency: 38000\\nduty_cycle: 0.330000\\ndata: {data_str}\\n\""
   ]
  },
  {
   "cell_type": "code",
   "execution_count": 5,
   "id": "05df475c-e14c-43fa-9a9b-809a2aeffbf0",
   "metadata": {},
   "outputs": [],
   "source": [
    "def bin_length(n):\n",
    "    return math.floor(math.log2(n)) + 1\n",
    "\n",
    "def parse_chunk(chunk) -> IRSpec:\n",
    "    name, capture_type, frequency, duty_cycle, data = (l.split(': ')[-1] for l in chunk.split('\\n'))\n",
    "    return IRSpec(name, capture_type, int(frequency), float(duty_cycle), data)\n",
    "\n",
    "\n",
    "def split_file(file_name: str) -> \"list[str]\":\n",
    "    with open(file_name, 'r') as f:\n",
    "        content = f.read()\n",
    "\n",
    "    _, *chunks = content.strip().split('\\n# \\n')\n",
    "    return chunks\n",
    "\n",
    "\n",
    "def bucketize(ns, threshold=5):\n",
    "    buckets = []\n",
    "    curr = 0\n",
    "    curr_bucket = []\n",
    "    for k in sorted(ns):\n",
    "        if k == curr:\n",
    "            continue\n",
    "        elif (k - curr) > threshold:\n",
    "            buckets.append(curr_bucket)\n",
    "            curr_bucket = []\n",
    "\n",
    "        curr_bucket.append(k)\n",
    "        curr = k\n",
    "\n",
    "    if curr_bucket:\n",
    "        buckets.append(curr_bucket)\n",
    "\n",
    "    return buckets\n",
    "\n",
    "\n",
    "def get_specs_from_file(file_name):\n",
    "    chunks = split_file(file_name)\n",
    "    return [parse_chunk(chunk) for chunk in chunks]\n"
   ]
  },
  {
   "cell_type": "code",
   "execution_count": 6,
   "id": "e6c3fb37-dd01-4cfe-87cd-d2ae85bfc860",
   "metadata": {},
   "outputs": [],
   "source": [
    "specs_frigid = get_specs_from_file(FRIGID)\n",
    "specs_termps = get_specs_from_file(TERMPS)\n",
    "specs_allsame = get_specs_from_file(ALL_SAME)\n",
    "\n",
    "datas_frigid = reduce(lambda a, c: a + c, (s.data_int for s in specs_frigid))\n",
    "datas_termps = reduce(lambda a, c: a + c, (s.data_int for s in specs_termps))\n",
    "datas_allsame = reduce(lambda a, c: a + c, (s.data_int for s in specs_allsame))\n",
    "\n",
    "c_frigid = Counter(datas_frigid)\n",
    "c_termps = Counter(datas_termps)\n",
    "c_allsame = Counter(datas_allsame)\n"
   ]
  },
  {
   "cell_type": "code",
   "execution_count": 7,
   "id": "85d0d2e0-9b0e-42de-955e-e39905ce8e78",
   "metadata": {},
   "outputs": [],
   "source": [
    "vals = chain(c_frigid.keys(), c_termps.keys(), c_allsame.keys())\n",
    "\n",
    "buckets = bucketize(vals)\n",
    "\n",
    "bucket_map = {0: 0}\n",
    "for bucket in buckets:\n",
    "    if not bucket:\n",
    "        continue\n",
    "    v = min(bucket)\n",
    "    for k in bucket:\n",
    "        bucket_map[k] = v\n",
    "\n",
    "def construct_times(data_ints):\n",
    "    res = [0]\n",
    "    for n in data_ints:\n",
    "        t_next = res[-1] + n\n",
    "        res.append(t_next)\n",
    "    return res"
   ]
  },
  {
   "cell_type": "code",
   "execution_count": 8,
   "id": "8475103b-44b6-40e2-9769-25320f7b95c4",
   "metadata": {},
   "outputs": [],
   "source": [
    "def plot_specs(specs):\n",
    "    # figure = plt.figure()\n",
    "    # figure.subplots_adjust(left=0.3)\n",
    "    _, axs = plt.subplots(len(specs), sharex=True)\n",
    "\n",
    "    for i, spec in enumerate(specs):\n",
    "        ts = construct_times(spec.normalized_data, bucket_map)\n",
    "        axs[i].set_title(spec.name, x=0.0, y=1.0, pad=-8, fontsize=8, horizontalalignment='left')\n",
    "        axs[i].step(ts, [i & 1 for i in range(len(ts))])\n",
    "        axs[i].yaxis.set_ticks([])\n",
    "\n",
    "\n",
    "    plt.show()"
   ]
  },
  {
   "cell_type": "code",
   "execution_count": 9,
   "id": "92e125f8-aab4-41e3-8b3f-8ef0a06f254b",
   "metadata": {},
   "outputs": [
    {
     "data": {
      "text/plain": [
       "[8965, 4513, 628, 1681, 626, 578, 628, 580, 626, 1680]"
      ]
     },
     "execution_count": 9,
     "metadata": {},
     "output_type": "execute_result"
    }
   ],
   "source": [
    "specs_allsame[1].data_int[:10]"
   ]
  },
  {
   "cell_type": "code",
   "execution_count": 10,
   "id": "efd3e71c-7603-4b59-a211-49f205685e9f",
   "metadata": {},
   "outputs": [],
   "source": [
    "def split_normalized(ns, boundaries={20011,40021}):\n",
    "    res = [[]]\n",
    "    for n in ns:\n",
    "        if n in boundaries:\n",
    "            res.append([])\n",
    "        else:\n",
    "            res[-1].append(n)\n",
    "\n",
    "    return res"
   ]
  },
  {
   "cell_type": "code",
   "execution_count": 18,
   "id": "2a521bf0-1f64-4f55-8db5-8b30273aec85",
   "metadata": {},
   "outputs": [],
   "source": [
    "def to_digit_array(chunk):\n",
    "    m = {\n",
    "        HIGH: 1,\n",
    "        LOW: 0,\n",
    "        WRAPPED_LOW: 0,\n",
    "        SPACE: None\n",
    "    }\n",
    "\n",
    "    return [m[n] for n in chunk if m.get(n) is not None]\n"
   ]
  },
  {
   "cell_type": "code",
   "execution_count": 27,
   "id": "ad0a84f1-156e-44c5-bb03-bae125b969d4",
   "metadata": {},
   "outputs": [],
   "source": [
    "def from_little_endian_digit_array(arr):\n",
    "    def f(acc, cur):\n",
    "        i, n = cur\n",
    "        return acc + n << i\n",
    "\n",
    "    return reduce(f, enumerate(arr), 0)\n"
   ]
  },
  {
   "cell_type": "code",
   "execution_count": 41,
   "id": "43917fa8-b2e4-4e2d-ae76-b0aaac19ea4e",
   "metadata": {},
   "outputs": [
    {
     "data": {
      "text/plain": [
       "'0b11010000001000000000010000000000000010000000010000000001000000000010000000000010000000000000101001000000011000000000000110000001000000000000000000100000010001000000000001010000000000100000001000001000000000000011000000000000000100010000000000001000000001000000001000000000000010000100000000000000000011000000000000000000001000000000000000000000100000010000000000000001000000000000000000000000000000000000001000000000100000000000000000010000000000000000000000000000010001000000000000000000000000001100000000000000000000000000001000000000000000000000000000001000010000000000000000000000000100000000000000000000000000000000000000000010000000000000000000001000000000000000000000000000000000000000000000000001000000000000000001000000000000000000010000000000000001000000000000000000000000000000000000000000000000000000000000001000000000001000000000000000000000000000010000000001000000000000000000000000000000010000000100000000000000000000000000000000000000000000000000000000000000000000000000000010001000000000000000000000000000000000000000010100000000000000000000000000000000000000000000'"
      ]
     },
     "execution_count": 41,
     "metadata": {},
     "output_type": "execute_result"
    }
   ],
   "source": [
    "allsame_0_0 = from_little_endian_digit_array(to_digit_array(specs_allsame[0].chunks[0]))\n",
    "frigid_0_0 = from_little_endian_digit_array(to_digit_array(specs_frigid[0].chunks[0]))\n",
    "\n",
    "bin(allsame_0_0 ^ frigid_0_0)"
   ]
  },
  {
   "cell_type": "code",
   "execution_count": 39,
   "id": "b6a30e04-be7c-424f-a295-f5e21a0c4f83",
   "metadata": {},
   "outputs": [
    {
     "data": {
      "text/plain": [
       "'60_eco_low_on'"
      ]
     },
     "execution_count": 39,
     "metadata": {},
     "output_type": "execute_result"
    }
   ],
   "source": [
    "specs_frigid[0].name"
   ]
  }
 ],
 "metadata": {
  "kernelspec": {
   "display_name": "Python 3 (ipykernel)",
   "language": "python",
   "name": "python3"
  },
  "language_info": {
   "codemirror_mode": {
    "name": "ipython",
    "version": 3
   },
   "file_extension": ".py",
   "mimetype": "text/x-python",
   "name": "python",
   "nbconvert_exporter": "python",
   "pygments_lexer": "ipython3",
   "version": "3.11.0"
  }
 },
 "nbformat": 4,
 "nbformat_minor": 5
}
